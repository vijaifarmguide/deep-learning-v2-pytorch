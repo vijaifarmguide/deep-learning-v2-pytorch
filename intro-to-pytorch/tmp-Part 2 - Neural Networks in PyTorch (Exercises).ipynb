{
 "cells": [
  {
   "cell_type": "markdown",
   "metadata": {},
   "source": [
    "# Neural networks with PyTorch\n",
    "\n",
    "Deep learning networks tend to be massive with dozens or hundreds of layers, that's where the term \"deep\" comes from. You can build one of these deep networks using only weight matrices as we did in the previous notebook, but in general it's very cumbersome and difficult to implement. PyTorch has a nice module `nn` that provides a nice way to efficiently build large neural networks."
   ]
  },
  {
   "cell_type": "code",
   "execution_count": 1,
   "metadata": {
    "collapsed": true
   },
   "outputs": [],
   "source": [
    "# Import necessary packages\n",
    "\n",
    "%matplotlib inline\n",
    "%config InlineBackend.figure_format = 'retina'\n",
    "\n",
    "import numpy as np\n",
    "import torch\n",
    "\n",
    "import helper\n",
    "\n",
    "import matplotlib.pyplot as plt"
   ]
  },
  {
   "cell_type": "markdown",
   "metadata": {},
   "source": [
    "\n",
    "Now we're going to build a larger network that can solve a (formerly) difficult problem, identifying text in an image. Here we'll use the MNIST dataset which consists of greyscale handwritten digits. Each image is 28x28 pixels, you can see a sample below\n",
    "\n",
    "<img src='assets/mnist.png'>\n",
    "\n",
    "Our goal is to build a neural network that can take one of these images and predict the digit in the image.\n",
    "\n",
    "First up, we need to get our dataset. This is provided through the `torchvision` package. The code below will download the MNIST dataset, then create training and test datasets for us. Don't worry too much about the details here, you'll learn more about this later."
   ]
  },
  {
   "cell_type": "code",
   "execution_count": 2,
   "metadata": {
    "collapsed": true
   },
   "outputs": [
    {
     "name": "stderr",
     "output_type": "stream",
     "text": [
      "0.00B [00:00, ?B/s]"
     ]
    },
    {
     "name": "stdout",
     "output_type": "stream",
     "text": [
      "Downloading http://yann.lecun.com/exdb/mnist/train-images-idx3-ubyte.gz to /Users/vijaikmathew/.pytorch/MNIST_data/MNIST/raw/train-images-idx3-ubyte.gz\n"
     ]
    },
    {
     "name": "stderr",
     "output_type": "stream",
     "text": [
      "100%|█████████▉| 9.90M/9.91M [02:07<00:00, 86.4kB/s]"
     ]
    },
    {
     "name": "stdout",
     "output_type": "stream",
     "text": [
      "Extracting /Users/vijaikmathew/.pytorch/MNIST_data/MNIST/raw/train-images-idx3-ubyte.gz\n"
     ]
    },
    {
     "name": "stderr",
     "output_type": "stream",
     "text": [
      "\n",
      "0.00B [00:00, ?B/s]\u001b[A"
     ]
    },
    {
     "name": "stdout",
     "output_type": "stream",
     "text": [
      "Downloading http://yann.lecun.com/exdb/mnist/train-labels-idx1-ubyte.gz to /Users/vijaikmathew/.pytorch/MNIST_data/MNIST/raw/train-labels-idx1-ubyte.gz\n"
     ]
    },
    {
     "name": "stderr",
     "output_type": "stream",
     "text": [
      "\n",
      "  0%|          | 0.00/28.9k [00:00<?, ?B/s]\u001b[A\n",
      " 57%|█████▋    | 16.4k/28.9k [00:01<00:00, 40.4kB/s]\u001b[A\n",
      "32.8kB [00:01, 29.4kB/s]                            \u001b[A\n",
      "0.00B [00:00, ?B/s]\u001b[A"
     ]
    },
    {
     "name": "stdout",
     "output_type": "stream",
     "text": [
      "Extracting /Users/vijaikmathew/.pytorch/MNIST_data/MNIST/raw/train-labels-idx1-ubyte.gz\n",
      "Downloading http://yann.lecun.com/exdb/mnist/t10k-images-idx3-ubyte.gz to /Users/vijaikmathew/.pytorch/MNIST_data/MNIST/raw/t10k-images-idx3-ubyte.gz\n"
     ]
    },
    {
     "name": "stderr",
     "output_type": "stream",
     "text": [
      "\n",
      "  0%|          | 0.00/1.65M [00:00<?, ?B/s]\u001b[A\n",
      "  1%|          | 16.4k/1.65M [00:01<00:39, 41.7kB/s]\u001b[A\n",
      "  2%|▏         | 41.0k/1.65M [00:01<00:33, 48.2kB/s]\u001b[A\n",
      "  3%|▎         | 49.2k/1.65M [00:02<01:05, 24.6kB/s]\u001b[A\n",
      "  4%|▍         | 65.5k/1.65M [00:02<00:53, 29.6kB/s]\u001b[A\n",
      "  5%|▍         | 81.9k/1.65M [00:02<00:45, 34.6kB/s]\u001b[A\n",
      "  6%|▋         | 106k/1.65M [00:03<00:36, 41.9kB/s] \u001b[A\n",
      "  7%|▋         | 123k/1.65M [00:03<00:33, 45.2kB/s]\u001b[A\n",
      "  9%|▉         | 147k/1.65M [00:03<00:29, 50.9kB/s]\u001b[A\n",
      " 10%|█         | 172k/1.65M [00:04<00:27, 54.7kB/s]\u001b[A\n",
      " 11%|█▏        | 188k/1.65M [00:04<00:28, 51.1kB/s]\u001b[A\n",
      " 13%|█▎        | 213k/1.65M [00:04<00:25, 57.3kB/s]\u001b[A\n",
      " 14%|█▍        | 238k/1.65M [00:04<00:22, 62.6kB/s]\u001b[A\n",
      " 15%|█▌        | 254k/1.65M [00:05<00:23, 59.5kB/s]\u001b[A\n",
      " 17%|█▋        | 279k/1.65M [00:06<00:34, 39.4kB/s]\u001b[A\n",
      " 17%|█▋        | 287k/1.65M [00:06<00:38, 35.0kB/s]\u001b[A\n",
      " 18%|█▊        | 295k/1.65M [00:06<00:35, 37.7kB/s]\u001b[A\n",
      " 18%|█▊        | 303k/1.65M [00:07<00:30, 44.5kB/s]\u001b[A\n",
      " 19%|█▉        | 311k/1.65M [00:07<00:30, 43.4kB/s]\u001b[A\n",
      " 20%|█▉        | 328k/1.65M [00:07<00:28, 46.2kB/s]\u001b[A\n",
      " 21%|██        | 344k/1.65M [00:07<00:28, 45.8kB/s]\u001b[A\n",
      " 22%|██▏       | 369k/1.65M [00:08<00:24, 52.8kB/s]\u001b[A\n",
      " 24%|██▍       | 393k/1.65M [00:08<00:21, 57.8kB/s]\u001b[A\n",
      " 25%|██▌       | 418k/1.65M [00:08<00:20, 59.0kB/s]\u001b[A\n",
      " 26%|██▋       | 434k/1.65M [00:09<00:21, 55.6kB/s]\u001b[A\n",
      " 28%|██▊       | 459k/1.65M [00:09<00:19, 61.5kB/s]\u001b[A\n",
      " 29%|██▉       | 483k/1.65M [00:09<00:18, 62.1kB/s]\u001b[A\n",
      "9.92MB [02:20, 86.4kB/s]                            \n",
      " 32%|███▏      | 532k/1.65M [00:10<00:16, 67.3kB/s]\u001b[A\n",
      " 34%|███▍      | 557k/1.65M [00:10<00:15, 71.2kB/s]\u001b[A\n",
      " 35%|███▌      | 582k/1.65M [00:11<00:14, 71.6kB/s]\u001b[A\n",
      " 37%|███▋      | 606k/1.65M [00:11<00:14, 70.5kB/s]\u001b[A\n",
      " 38%|███▊      | 631k/1.65M [00:11<00:14, 70.1kB/s]\u001b[A\n",
      " 40%|████      | 664k/1.65M [00:12<00:12, 78.1kB/s]\u001b[A\n",
      " 42%|████▏     | 696k/1.65M [00:12<00:11, 85.0kB/s]\u001b[A\n",
      " 45%|████▌     | 745k/1.65M [00:12<00:09, 98.8kB/s]\u001b[A\n",
      " 47%|████▋     | 770k/1.65M [00:13<00:09, 92.3kB/s]\u001b[A\n",
      " 48%|████▊     | 786k/1.65M [00:13<00:11, 77.3kB/s]\u001b[A\n",
      " 49%|████▉     | 811k/1.65M [00:13<00:10, 79.3kB/s]\u001b[A\n",
      " 51%|█████     | 844k/1.65M [00:14<00:12, 63.8kB/s]\u001b[A\n",
      " 55%|█████▌    | 909k/1.65M [00:14<00:09, 80.9kB/s]\u001b[A\n",
      " 56%|█████▌    | 926k/1.65M [00:15<00:10, 71.9kB/s]\u001b[A\n",
      " 58%|█████▊    | 958k/1.65M [00:15<00:08, 80.6kB/s]\u001b[A\n",
      " 60%|█████▉    | 983k/1.65M [00:15<00:06, 97.5kB/s]\u001b[A\n",
      " 61%|██████    | 999k/1.65M [00:15<00:06, 97.0kB/s]\u001b[A\n",
      " 62%|██████▏   | 1.02M/1.65M [00:15<00:05, 107kB/s]\u001b[A\n",
      " 63%|██████▎   | 1.03M/1.65M [00:15<00:05, 103kB/s]\u001b[A\n",
      " 64%|██████▎   | 1.05M/1.65M [00:16<00:05, 111kB/s]\u001b[A\n",
      " 65%|██████▍   | 1.06M/1.65M [00:16<00:05, 107kB/s]\u001b[A\n",
      " 66%|██████▌   | 1.09M/1.65M [00:16<00:07, 79.5kB/s]\u001b[A\n",
      " 67%|██████▋   | 1.11M/1.65M [00:17<00:10, 52.4kB/s]\u001b[A\n",
      " 68%|██████▊   | 1.11M/1.65M [00:17<00:11, 44.9kB/s]\u001b[A\n",
      " 70%|███████   | 1.16M/1.65M [00:17<00:08, 56.3kB/s]\u001b[A\n",
      " 71%|███████   | 1.17M/1.65M [00:18<00:07, 61.7kB/s]\u001b[A\n",
      " 72%|███████▏  | 1.19M/1.65M [00:18<00:06, 75.0kB/s]\u001b[A\n",
      " 73%|███████▎  | 1.20M/1.65M [00:18<00:06, 69.9kB/s]\u001b[A\n",
      " 74%|███████▍  | 1.22M/1.65M [00:18<00:07, 55.0kB/s]\u001b[A\n",
      " 77%|███████▋  | 1.27M/1.65M [00:19<00:05, 71.9kB/s]\u001b[A\n",
      " 78%|███████▊  | 1.29M/1.65M [00:19<00:05, 72.0kB/s]\u001b[A\n",
      " 79%|███████▉  | 1.30M/1.65M [00:19<00:04, 79.1kB/s]\u001b[A\n",
      " 80%|███████▉  | 1.32M/1.65M [00:19<00:04, 80.8kB/s]\u001b[A\n",
      " 81%|████████  | 1.34M/1.65M [00:19<00:03, 86.6kB/s]\u001b[A\n",
      " 82%|████████▏ | 1.35M/1.65M [00:19<00:03, 95.7kB/s]\u001b[A\n",
      " 83%|████████▎ | 1.37M/1.65M [00:20<00:03, 79.3kB/s]\u001b[A\n",
      " 84%|████████▍ | 1.38M/1.65M [00:20<00:04, 56.0kB/s]\u001b[A\n",
      " 85%|████████▌ | 1.41M/1.65M [00:20<00:03, 70.8kB/s]\u001b[A\n",
      " 86%|████████▋ | 1.43M/1.65M [00:21<00:03, 63.7kB/s]\u001b[A\n",
      " 87%|████████▋ | 1.44M/1.65M [00:21<00:02, 71.3kB/s]\u001b[A\n",
      " 88%|████████▊ | 1.46M/1.65M [00:21<00:02, 71.5kB/s]\u001b[A\n",
      " 89%|████████▉ | 1.47M/1.65M [00:21<00:02, 73.8kB/s]\u001b[A\n",
      " 90%|█████████ | 1.49M/1.65M [00:22<00:02, 72.9kB/s]\u001b[A\n",
      " 91%|█████████▏| 1.51M/1.65M [00:22<00:01, 80.4kB/s]\u001b[A\n",
      " 92%|█████████▏| 1.52M/1.65M [00:22<00:01, 78.3kB/s]\u001b[A\n",
      " 93%|█████████▎| 1.54M/1.65M [00:22<00:01, 83.5kB/s]\u001b[A\n",
      " 94%|█████████▍| 1.56M/1.65M [00:22<00:01, 83.7kB/s]\u001b[A\n",
      " 95%|█████████▌| 1.57M/1.65M [00:22<00:00, 80.0kB/s]\u001b[A\n",
      " 96%|█████████▋| 1.59M/1.65M [00:23<00:00, 87.0kB/s]\u001b[A\n",
      " 97%|█████████▋| 1.61M/1.65M [00:23<00:00, 94.7kB/s]\u001b[A\n",
      " 98%|█████████▊| 1.62M/1.65M [00:23<00:00, 96.5kB/s]\u001b[A\n",
      " 99%|█████████▉| 1.64M/1.65M [00:23<00:00, 95.2kB/s]\u001b[A\n",
      "\n",
      "0.00B [00:00, ?B/s]\u001b[A\u001b[A"
     ]
    },
    {
     "name": "stdout",
     "output_type": "stream",
     "text": [
      "Extracting /Users/vijaikmathew/.pytorch/MNIST_data/MNIST/raw/t10k-images-idx3-ubyte.gz\n",
      "Downloading http://yann.lecun.com/exdb/mnist/t10k-labels-idx1-ubyte.gz to /Users/vijaikmathew/.pytorch/MNIST_data/MNIST/raw/t10k-labels-idx1-ubyte.gz\n"
     ]
    },
    {
     "name": "stderr",
     "output_type": "stream",
     "text": [
      "\n",
      "\n",
      "  0%|          | 0.00/4.54k [00:00<?, ?B/s]\u001b[A\u001b[A\n",
      "\n",
      "8.19kB [00:00, 10.7kB/s]                   \u001b[A\u001b[A"
     ]
    },
    {
     "name": "stdout",
     "output_type": "stream",
     "text": [
      "Extracting /Users/vijaikmathew/.pytorch/MNIST_data/MNIST/raw/t10k-labels-idx1-ubyte.gz\n",
      "Processing...\n",
      "Done!\n"
     ]
    }
   ],
   "source": [
    "### Run this cell\n",
    "\n",
    "from torchvision import datasets, transforms\n",
    "\n",
    "# Define a transform to normalize the data\n",
    "transform = transforms.Compose([transforms.ToTensor(),\n",
    "                              transforms.Normalize((0.5,), (0.5,)),\n",
    "                              ])\n",
    "\n",
    "# Download and load the training data\n",
    "trainset = datasets.MNIST('~/.pytorch/MNIST_data/', download=True, train=True, transform=transform)\n",
    "trainloader = torch.utils.data.DataLoader(trainset, batch_size=64, shuffle=True)"
   ]
  },
  {
   "cell_type": "markdown",
   "metadata": {},
   "source": [
    "We have the training data loaded into `trainloader` and we make that an iterator with `iter(trainloader)`. Later, we'll use this to loop through the dataset for training, like\n",
    "\n",
    "```python\n",
    "for image, label in trainloader:\n",
    "    ## do things with images and labels\n",
    "```\n",
    "\n",
    "You'll notice I created the `trainloader` with a batch size of 64, and `shuffle=True`. The batch size is the number of images we get in one iteration from the data loader and pass through our network, often called a *batch*. And `shuffle=True` tells it to shuffle the dataset every time we start going through the data loader again. But here I'm just grabbing the first batch so we can check out the data. We can see below that `images` is just a tensor with size `(64, 1, 28, 28)`. So, 64 images per batch, 1 color channel, and 28x28 images."
   ]
  },
  {
   "cell_type": "code",
   "execution_count": 5,
   "metadata": {
    "collapsed": true
   },
   "outputs": [
    {
     "name": "stdout",
     "output_type": "stream",
     "text": [
      "<class 'torch.Tensor'>\n",
      "torch.Size([64, 1, 28, 28])\n",
      "torch.Size([64])\n"
     ]
    }
   ],
   "source": [
    "dataiter = iter(trainloader)\n",
    "images, labels = dataiter.next()\n",
    "print(type(images))\n",
    "print(images.shape)\n",
    "print(labels.shape)"
   ]
  },
  {
   "cell_type": "code",
   "execution_count": 7,
   "metadata": {},
   "outputs": [
    {
     "data": {
      "text/plain": [
       "tensor([0, 4, 3, 6, 1, 6, 0, 7, 8, 0, 8, 9, 9, 5, 8, 8, 2, 0, 8, 5, 1, 5, 5, 2,\n",
       "        3, 5, 5, 4, 3, 8, 4, 8, 4, 0, 5, 4, 4, 3, 3, 3, 7, 8, 6, 6, 4, 2, 6, 8,\n",
       "        6, 8, 0, 0, 1, 3, 0, 7, 6, 1, 5, 9, 0, 8, 0, 2])"
      ]
     },
     "execution_count": 7,
     "metadata": {},
     "output_type": "execute_result"
    }
   ],
   "source": [
    "labels"
   ]
  },
  {
   "cell_type": "markdown",
   "metadata": {},
   "source": [
    "This is what one of the images looks like. "
   ]
  },
  {
   "cell_type": "code",
   "execution_count": 8,
   "metadata": {
    "collapsed": true
   },
   "outputs": [
    {
     "data": {
      "image/png": "[encoded data removed]",
      "text/plain": [
       "<Figure size 432x288 with 1 Axes>"
      ]
     },
     "metadata": {
      "image/png": {
       "height": 250,
       "width": 253
      },
      "needs_background": "light"
     },
     "output_type": "display_data"
    }
   ],
   "source": [
    "plt.imshow(images[5].numpy().squeeze(), cmap='Greys_r');"
   ]
  },
  {
   "cell_type": "markdown",
   "metadata": {},
   "source": [
    "First, let's try to build a simple network for this dataset using weight matrices and matrix multiplications. Then, we'll see how to do it using PyTorch's `nn` module which provides a much more convenient and powerful method for defining network architectures.\n",
    "\n",
    "The networks you've seen so far are called *fully-connected* or *dense* networks. Each unit in one layer is connected to each unit in the next layer. In fully-connected networks, the input to each layer must be a one-dimensional vector (which can be stacked into a 2D tensor as a batch of multiple examples). However, our images are 28x28 2D tensors, so we need to convert them into 1D vectors. Thinking about sizes, we need to convert the batch of images with shape `(64, 1, 28, 28)` to a have a shape of `(64, 784)`, 784 is 28 times 28. This is typically called *flattening*, we flattened the 2D images into 1D vectors.\n",
    "\n",
    "Previously you built a network with one output unit. Here we need 10 output units, one for each digit. We want our network to predict the digit shown in an image, so what we'll do is calculate probabilities that the image is of any one digit or class. This ends up being a discrete probability distribution over the classes (digits) that tells us the most likely class for the image. That means we need 10 output units for the 10 classes (digits). We'll see how to convert the network output into a probability distribution next.\n",
    "\n",
    "> **Exercise:** Flatten the batch of images `images`. Then build a multi-layer network with 784 input units, 256 hidden units, and 10 output units using random tensors for the weights and biases. For now, use a sigmoid activation for the hidden layer. Leave the output layer without an activation, we'll add one that gives us a probability distribution next."
   ]
  },
  {
   "cell_type": "code",
   "execution_count": 12,
   "metadata": {
    "collapsed": true
   },
   "outputs": [
    {
     "data": {
      "text/plain": [
       "torch.Size([64, 10])"
      ]
     },
     "execution_count": 12,
     "metadata": {},
     "output_type": "execute_result"
    }
   ],
   "source": [
    "## Your solution\n",
    "torch.manual_seed(7) # Set the random seed so things are predictable\n",
    "\n",
    "# Features are 3 random normal variables\n",
    "features = torch.randn((64, 784))\n",
    "\n",
    "# Define the size of each layer in our network\n",
    "n_input = features.shape[1]     # Number of input units, must match number of input features\n",
    "n_hidden = 256                    # Number of hidden units \n",
    "n_output = 10                    # Number of output units\n",
    "\n",
    "# Weights for inputs to hidden layer\n",
    "W1 = torch.randn(n_input, n_hidden)\n",
    "# Weights for hidden layer to output layer\n",
    "W2 = torch.randn(n_hidden, n_output)\n",
    "\n",
    "# and bias terms for hidden and output layers\n",
    "B1 = torch.randn((1, n_hidden))\n",
    "B2 = torch.randn((1, n_output))\n",
    "\n",
    "L1=torch.sigmoid(torch.mm(features, W1.view(n_input,n_hidden)) + B1)\n",
    "out=torch.sigmoid(torch.mm(L1, W2.view(n_hidden,n_output)) + B2)\n",
    "\n",
    "out.shape\n",
    "# output of your network, should have shape (64,10)"
   ]
  },
  {
   "cell_type": "markdown",
   "metadata": {},
   "source": [
    "Now we have 10 outputs for our network. We want to pass in an image to our network and get out a probability distribution over the classes that tells us the likely class(es) the image belongs to. Something that looks like this:\n",
    "<img src='assets/image_distribution.png' width=500px>\n",
    "\n",
    "Here we see that the probability for each class is roughly the same. This is representing an untrained network, it hasn't seen any data yet so it just returns a uniform distribution with equal probabilities for each class.\n",
    "\n",
    "To calculate this probability distribution, we often use the [**softmax** function](https://en.wikipedia.org/wiki/Softmax_function). Mathematically this looks like\n",
    "\n",
    "$$\n",
    "\\Large \\sigma(x_i) = \\cfrac{e^{x_i}}{\\sum_k^K{e^{x_k}}}\n",
    "$$\n",
    "\n",
    "What this does is squish each input $x_i$ between 0 and 1 and normalizes the values to give you a proper probability distribution where the probabilites sum up to one.\n",
    "\n",
    "> **Exercise:** Implement a function `softmax` that performs the softmax calculation and returns probability distributions for each example in the batch. Note that you'll need to pay attention to the shapes when doing this. If you have a tensor `a` with shape `(64, 10)` and a tensor `b` with shape `(64,)`, doing `a/b` will give you an error because PyTorch will try to do the division across the columns (called broadcasting) but you'll get a size mismatch. The way to think about this is for each of the 64 examples, you only want to divide by one value, the sum in the denominator. So you need `b` to have a shape of `(64, 1)`. This way PyTorch will divide the 10 values in each row of `a` by the one value in each row of `b`. Pay attention to how you take the sum as well. You'll need to define the `dim` keyword in `torch.sum`. Setting `dim=0` takes the sum across the rows while `dim=1` takes the sum across the columns."
   ]
  },
  {
   "cell_type": "code",
   "execution_count": 20,
   "metadata": {
    "collapsed": true
   },
   "outputs": [
    {
     "name": "stdout",
     "output_type": "stream",
     "text": [
      "torch.Size([64, 10])\n",
      "tensor([1.0000, 1.0000, 1.0000, 1.0000, 1.0000, 1.0000, 1.0000, 1.0000, 1.0000,\n",
      "        1.0000, 1.0000, 1.0000, 1.0000, 1.0000, 1.0000, 1.0000, 1.0000, 1.0000,\n",
      "        1.0000, 1.0000, 1.0000, 1.0000, 1.0000, 1.0000, 1.0000, 1.0000, 1.0000,\n",
      "        1.0000, 1.0000, 1.0000, 1.0000, 1.0000, 1.0000, 1.0000, 1.0000, 1.0000,\n",
      "        1.0000, 1.0000, 1.0000, 1.0000, 1.0000, 1.0000, 1.0000, 1.0000, 1.0000,\n",
      "        1.0000, 1.0000, 1.0000, 1.0000, 1.0000, 1.0000, 1.0000, 1.0000, 1.0000,\n",
      "        1.0000, 1.0000, 1.0000, 1.0000, 1.0000, 1.0000, 1.0000, 1.0000, 1.0000,\n",
      "        1.0000])\n"
     ]
    }
   ],
   "source": [
    "def softmax(x):\n",
    "    ## TODO: Implement the softmax function here   \n",
    "    return torch.exp(x)/torch.sum(torch.exp(x), dim=1).view(-1, 1)\n",
    "# Here, out should be the output of the network in the previous excercise with shape (64,10)\n",
    "probabilities = softmax(out)\n",
    "\n",
    "# Does it have the right shape? Should be (64, 10)\n",
    "print(probabilities.shape)\n",
    "# Does it sum to 1?\n",
    "print(probabilities.sum(dim=1))"
   ]
  },
  {
   "cell_type": "markdown",
   "metadata": {},
   "source": [
    "## Building networks with PyTorch\n",
    "\n",
    "PyTorch provides a module `nn` that makes building networks much simpler. Here I'll show you how to build the same one as above with 784 inputs, 256 hidden units, 10 output units and a softmax output."
   ]
  },
  {
   "cell_type": "code",
   "execution_count": 21,
   "metadata": {
    "collapsed": true
   },
   "outputs": [],
   "source": [
    "from torch import nn"
   ]
  },
  {
   "cell_type": "code",
   "execution_count": 22,
   "metadata": {
    "collapsed": true
   },
   "outputs": [],
   "source": [
    "class Network(nn.Module):\n",
    "    def __init__(self):\n",
    "        super().__init__()\n",
    "        \n",
    "        # Inputs to hidden layer linear transformation\n",
    "        self.hidden = nn.Linear(784, 256)\n",
    "        # Output layer, 10 units - one for each digit\n",
    "        self.output = nn.Linear(256, 10)\n",
    "        \n",
    "        # Define sigmoid activation and softmax output \n",
    "        self.sigmoid = nn.Sigmoid()\n",
    "        self.softmax = nn.Softmax(dim=1)\n",
    "        \n",
    "    def forward(self, x):\n",
    "        # Pass the input tensor through each of our operations\n",
    "        x = self.hidden(x)\n",
    "        x = self.sigmoid(x)\n",
    "        x = self.output(x)\n",
    "        x = self.softmax(x)\n",
    "        \n",
    "        return x"
   ]
  },
  {
   "cell_type": "markdown",
   "metadata": {},
   "source": [
    "Let's go through this bit by bit.\n",
    "\n",
    "```python\n",
    "class Network(nn.Module):\n",
    "```\n",
    "\n",
    "Here we're inheriting from `nn.Module`. Combined with `super().__init__()` this creates a class that tracks the architecture and provides a lot of useful methods and attributes. It is mandatory to inherit from `nn.Module` when you're creating a class for your network. The name of the class itself can be anything.\n",
    "\n",
    "```python\n",
    "self.hidden = nn.Linear(784, 256)\n",
    "```\n",
    "\n",
    "This line creates a module for a linear transformation, $x\\mathbf{W} + b$, with 784 inputs and 256 outputs and assigns it to `self.hidden`. The module automatically creates the weight and bias tensors which we'll use in the `forward` method. You can access the weight and bias tensors once the network (`net`) is created with `net.hidden.weight` and `net.hidden.bias`.\n",
    "\n",
    "```python\n",
    "self.output = nn.Linear(256, 10)\n",
    "```\n",
    "\n",
    "Similarly, this creates another linear transformation with 256 inputs and 10 outputs.\n",
    "\n",
    "```python\n",
    "self.sigmoid = nn.Sigmoid()\n",
    "self.softmax = nn.Softmax(dim=1)\n",
    "```\n",
    "\n",
    "Here I defined operations for the sigmoid activation and softmax output. Setting `dim=1` in `nn.Softmax(dim=1)` calculates softmax across the columns.\n",
    "\n",
    "```python\n",
    "def forward(self, x):\n",
    "```\n",
    "\n",
    "PyTorch networks created with `nn.Module` must have a `forward` method defined. It takes in a tensor `x` and passes it through the operations you defined in the `__init__` method.\n",
    "\n",
    "```python\n",
    "x = self.hidden(x)\n",
    "x = self.sigmoid(x)\n",
    "x = self.output(x)\n",
    "x = self.softmax(x)\n",
    "```\n",
    "\n",
    "Here the input tensor `x` is passed through each operation and reassigned to `x`. We can see that the input tensor goes through the hidden layer, then a sigmoid function, then the output layer, and finally the softmax function. It doesn't matter what you name the variables here, as long as the inputs and outputs of the operations match the network architecture you want to build. The order in which you define things in the `__init__` method doesn't matter, but you'll need to sequence the operations correctly in the `forward` method.\n",
    "\n",
    "Now we can create a `Network` object."
   ]
  },
  {
   "cell_type": "code",
   "execution_count": 23,
   "metadata": {
    "collapsed": true
   },
   "outputs": [
    {
     "data": {
      "text/plain": [
       "Network(\n",
       "  (hidden): Linear(in_features=784, out_features=256, bias=True)\n",
       "  (output): Linear(in_features=256, out_features=10, bias=True)\n",
       "  (sigmoid): Sigmoid()\n",
       "  (softmax): Softmax()\n",
       ")"
      ]
     },
     "execution_count": 23,
     "metadata": {},
     "output_type": "execute_result"
    }
   ],
   "source": [
    "# Create the network and look at it's text representation\n",
    "model = Network()\n",
    "model"
   ]
  },
  {
   "cell_type": "markdown",
   "metadata": {},
   "source": [
    "You can define the network somewhat more concisely and clearly using the `torch.nn.functional` module. This is the most common way you'll see networks defined as many operations are simple element-wise functions. We normally import this module as `F`, `import torch.nn.functional as F`."
   ]
  },
  {
   "cell_type": "code",
   "execution_count": 24,
   "metadata": {
    "collapsed": true
   },
   "outputs": [],
   "source": [
    "import torch.nn.functional as F\n",
    "\n",
    "class Network(nn.Module):\n",
    "    def __init__(self):\n",
    "        super().__init__()\n",
    "        # Inputs to hidden layer linear transformation\n",
    "        self.hidden = nn.Linear(784, 256)\n",
    "        # Output layer, 10 units - one for each digit\n",
    "        self.output = nn.Linear(256, 10)\n",
    "        \n",
    "    def forward(self, x):\n",
    "        # Hidden layer with sigmoid activation\n",
    "        x = F.sigmoid(self.hidden(x))\n",
    "        # Output layer with softmax activation\n",
    "        x = F.softmax(self.output(x), dim=1)\n",
    "        \n",
    "        return x"
   ]
  },
  {
   "cell_type": "markdown",
   "metadata": {},
   "source": [
    "### Activation functions\n",
    "\n",
    "So far we've only been looking at the sigmoid activation function, but in general any function can be used as an activation function. The only requirement is that for a network to approximate a non-linear function, the activation functions must be non-linear. Here are a few more examples of common activation functions: Tanh (hyperbolic tangent), and ReLU (rectified linear unit).\n",
    "\n",
    "<img src=\"assets/activation.png\" width=700px>\n",
    "\n",
    "In practice, the ReLU function is used almost exclusively as the activation function for hidden layers."
   ]
  },
  {
   "cell_type": "markdown",
   "metadata": {},
   "source": [
    "### Your Turn to Build a Network\n",
    "\n",
    "<img src=\"assets/mlp_mnist.png\" width=600px>\n",
    "\n",
    "> **Exercise:** Create a network with 784 input units, a hidden layer with 128 units and a ReLU activation, then a hidden layer with 64 units and a ReLU activation, and finally an output layer with a softmax activation as shown above. You can use a ReLU activation with the `nn.ReLU` module or `F.relu` function.\n",
    "\n",
    "It's good practice to name your layers by their type of network, for instance 'fc' to represent a fully-connected layer. As you code your solution, use `fc1`, `fc2`, and `fc3` as your layer names."
   ]
  },
  {
   "cell_type": "code",
   "execution_count": 29,
   "metadata": {
    "collapsed": true,
    "scrolled": true
   },
   "outputs": [
    {
     "data": {
      "text/plain": [
       "Network(\n",
       "  (fc1): Linear(in_features=784, out_features=128, bias=True)\n",
       "  (fc2): Linear(in_features=128, out_features=64, bias=True)\n",
       "  (fc3): Linear(in_features=64, out_features=10, bias=True)\n",
       ")"
      ]
     },
     "execution_count": 29,
     "metadata": {},
     "output_type": "execute_result"
    }
   ],
   "source": [
    "## Your solution here\n",
    "import torch.nn.functional as F\n",
    "\n",
    "class Network(nn.Module):\n",
    "    def __init__(self):\n",
    "        super().__init__()\n",
    "        # Inputs to hidden layer linear transformation\n",
    "        self.fc1 = nn.Linear(784, 128)\n",
    "        self.fc2 = nn.Linear(128, 64)\n",
    "        # Output layer, 10 units - one for each digit\n",
    "        self.fc3 = nn.Linear(64, 10)\n",
    "        \n",
    "    def forward(self, x):\n",
    "        # Hidden layer with sigmoid activation\n",
    "        x = F.relu(self.fc1(x))\n",
    "        x = F.relu(self.fc2(x))\n",
    "        # Output layer with softmax activation\n",
    "        x = F.softmax(self.fc3(x), dim=1)\n",
    "        \n",
    "        return x\n",
    "    \n",
    "model = Network()\n",
    "model"
   ]
  },
  {
   "cell_type": "markdown",
   "metadata": {},
   "source": [
    "### Initializing weights and biases\n",
    "\n",
    "The weights and such are automatically initialized for you, but it's possible to customize how they are initialized. The weights and biases are tensors attached to the layer you defined, you can get them with `model.fc1.weight` for instance."
   ]
  },
  {
   "cell_type": "code",
   "execution_count": 30,
   "metadata": {
    "collapsed": true
   },
   "outputs": [
    {
     "name": "stdout",
     "output_type": "stream",
     "text": [
      "Parameter containing:\n",
      "tensor([[ 0.0158, -0.0249, -0.0043,  ...,  0.0065,  0.0087,  0.0257],\n",
      "        [-0.0192,  0.0356,  0.0017,  ...,  0.0121,  0.0194, -0.0120],\n",
      "        [ 0.0024, -0.0283,  0.0227,  ...,  0.0112,  0.0350, -0.0032],\n",
      "        ...,\n",
      "        [-0.0329, -0.0316,  0.0153,  ..., -0.0030,  0.0030,  0.0041],\n",
      "        [-0.0196,  0.0045, -0.0140,  ..., -0.0024, -0.0098, -0.0244],\n",
      "        [ 0.0177,  0.0144,  0.0163,  ...,  0.0258, -0.0351,  0.0089]],\n",
      "       requires_grad=True)\n",
      "Parameter containing:\n",
      "tensor([ 0.0021,  0.0202,  0.0273,  0.0308,  0.0030, -0.0292, -0.0102, -0.0193,\n",
      "         0.0300, -0.0094, -0.0174, -0.0180,  0.0008,  0.0242, -0.0193, -0.0250,\n",
      "         0.0252, -0.0199,  0.0262,  0.0089,  0.0065, -0.0229,  0.0160, -0.0017,\n",
      "         0.0116,  0.0157, -0.0060, -0.0120,  0.0049,  0.0079,  0.0061,  0.0195,\n",
      "        -0.0291,  0.0282, -0.0069, -0.0333, -0.0050, -0.0229,  0.0354,  0.0122,\n",
      "         0.0232, -0.0252,  0.0265, -0.0310, -0.0062, -0.0356,  0.0184,  0.0278,\n",
      "        -0.0085,  0.0293, -0.0277,  0.0260, -0.0117,  0.0006, -0.0075, -0.0116,\n",
      "         0.0168, -0.0176,  0.0150, -0.0043, -0.0117,  0.0088,  0.0276,  0.0127,\n",
      "         0.0307, -0.0336,  0.0321, -0.0050,  0.0029, -0.0237,  0.0247,  0.0138,\n",
      "         0.0097,  0.0260, -0.0292,  0.0320,  0.0332, -0.0104,  0.0267,  0.0161,\n",
      "         0.0103, -0.0166, -0.0086,  0.0316, -0.0318,  0.0220, -0.0244, -0.0015,\n",
      "         0.0326, -0.0016,  0.0260, -0.0277,  0.0248,  0.0064,  0.0085, -0.0327,\n",
      "        -0.0348, -0.0147,  0.0173,  0.0260, -0.0231, -0.0266,  0.0207,  0.0150,\n",
      "        -0.0144,  0.0159, -0.0097,  0.0278,  0.0090,  0.0292,  0.0334, -0.0220,\n",
      "         0.0295,  0.0345, -0.0162,  0.0236, -0.0008, -0.0023, -0.0184,  0.0201,\n",
      "         0.0278, -0.0105, -0.0289,  0.0231,  0.0097, -0.0289, -0.0319,  0.0198],\n",
      "       requires_grad=True)\n"
     ]
    }
   ],
   "source": [
    "print(model.fc1.weight)\n",
    "print(model.fc1.bias)"
   ]
  },
  {
   "cell_type": "markdown",
   "metadata": {},
   "source": [
    "For custom initialization, we want to modify these tensors in place. These are actually autograd *Variables*, so we need to get back the actual tensors with `model.fc1.weight.data`. Once we have the tensors, we can fill them with zeros (for biases) or random normal values."
   ]
  },
  {
   "cell_type": "code",
   "execution_count": 31,
   "metadata": {
    "collapsed": true
   },
   "outputs": [
    {
     "data": {
      "text/plain": [
       "tensor([0., 0., 0., 0., 0., 0., 0., 0., 0., 0., 0., 0., 0., 0., 0., 0., 0., 0., 0., 0., 0., 0., 0., 0.,\n",
       "        0., 0., 0., 0., 0., 0., 0., 0., 0., 0., 0., 0., 0., 0., 0., 0., 0., 0., 0., 0., 0., 0., 0., 0.,\n",
       "        0., 0., 0., 0., 0., 0., 0., 0., 0., 0., 0., 0., 0., 0., 0., 0., 0., 0., 0., 0., 0., 0., 0., 0.,\n",
       "        0., 0., 0., 0., 0., 0., 0., 0., 0., 0., 0., 0., 0., 0., 0., 0., 0., 0., 0., 0., 0., 0., 0., 0.,\n",
       "        0., 0., 0., 0., 0., 0., 0., 0., 0., 0., 0., 0., 0., 0., 0., 0., 0., 0., 0., 0., 0., 0., 0., 0.,\n",
       "        0., 0., 0., 0., 0., 0., 0., 0.])"
      ]
     },
     "execution_count": 31,
     "metadata": {},
     "output_type": "execute_result"
    }
   ],
   "source": [
    "# Set biases to all zeros\n",
    "model.fc1.bias.data.fill_(0)"
   ]
  },
  {
   "cell_type": "code",
   "execution_count": 32,
   "metadata": {
    "collapsed": true
   },
   "outputs": [
    {
     "data": {
      "text/plain": [
       "tensor([[-0.0051,  0.0043,  0.0127,  ...,  0.0007,  0.0049,  0.0023],\n",
       "        [ 0.0044,  0.0053, -0.0045,  ..., -0.0043,  0.0081, -0.0109],\n",
       "        [-0.0011,  0.0083, -0.0045,  ...,  0.0091,  0.0122,  0.0022],\n",
       "        ...,\n",
       "        [-0.0057,  0.0071,  0.0169,  ...,  0.0045,  0.0004,  0.0073],\n",
       "        [ 0.0187,  0.0114,  0.0164,  ...,  0.0152,  0.0014, -0.0036],\n",
       "        [ 0.0074, -0.0060, -0.0142,  ..., -0.0188, -0.0140, -0.0021]])"
      ]
     },
     "execution_count": 32,
     "metadata": {},
     "output_type": "execute_result"
    }
   ],
   "source": [
    "# sample from random normal with standard dev = 0.01\n",
    "model.fc1.weight.data.normal_(std=0.01)"
   ]
  },
  {
   "cell_type": "markdown",
   "metadata": {},
   "source": [
    "### Forward pass\n",
    "\n",
    "Now that we have a network, let's see what happens when we pass in an image."
   ]
  },
  {
   "cell_type": "code",
   "execution_count": 33,
   "metadata": {
    "collapsed": true
   },
   "outputs": [
    {
     "data": {
      "image/png": "[encoded data removed]",
      "text/plain": [
       "<Figure size 432x648 with 2 Axes>"
      ]
     },
     "metadata": {
      "image/png": {
       "height": 226,
       "width": 423
      },
      "needs_background": "light"
     },
     "output_type": "display_data"
    }
   ],
   "source": [
    "# Grab some data \n",
    "dataiter = iter(trainloader)\n",
    "images, labels = dataiter.next()\n",
    "\n",
    "# Resize images into a 1D vector, new shape is (batch size, color channels, image pixels) \n",
    "images.resize_(64, 1, 784)\n",
    "# or images.resize_(images.shape[0], 1, 784) to automatically get batch size\n",
    "\n",
    "# Forward pass through the network\n",
    "img_idx = 0\n",
    "ps = model.forward(images[img_idx,:])\n",
    "\n",
    "img = images[img_idx]\n",
    "helper.view_classify(img.view(1, 28, 28), ps)"
   ]
  },
  {
   "cell_type": "markdown",
   "metadata": {},
   "source": [
    "As you can see above, our network has basically no idea what this digit is. It's because we haven't trained it yet, all the weights are random!\n",
    "\n",
    "### Using `nn.Sequential`\n",
    "\n",
    "PyTorch provides a convenient way to build networks like this where a tensor is passed sequentially through operations, `nn.Sequential` ([documentation](https://pytorch.org/docs/master/nn.html#torch.nn.Sequential)). Using this to build the equivalent network:"
   ]
  },
  {
   "cell_type": "code",
   "execution_count": 38,
   "metadata": {
    "collapsed": true
   },
   "outputs": [
    {
     "name": "stdout",
     "output_type": "stream",
     "text": [
      "Sequential(\n",
      "  (0): Linear(in_features=784, out_features=128, bias=True)\n",
      "  (1): ReLU()\n",
      "  (2): Linear(in_features=128, out_features=64, bias=True)\n",
      "  (3): ReLU()\n",
      "  (4): Linear(in_features=64, out_features=10, bias=True)\n",
      "  (5): Softmax()\n",
      ")\n"
     ]
    },
    {
     "data": {
      "image/png": "[encoded data removed]",
      "text/plain": [
       "<Figure size 432x648 with 2 Axes>"
      ]
     },
     "metadata": {
      "image/png": {
       "height": 226,
       "width": 423
      },
      "needs_background": "light"
     },
     "output_type": "display_data"
    }
   ],
   "source": [
    "# Hyperparameters for our network\n",
    "input_size = 784\n",
    "hidden_sizes = [128, 64]\n",
    "output_size = 10\n",
    "\n",
    "# Build a feed-forward network\n",
    "model = nn.Sequential(nn.Linear(input_size, hidden_sizes[0]),\n",
    "                      nn.ReLU(),\n",
    "                      nn.Linear(hidden_sizes[0], hidden_sizes[1]),\n",
    "                      nn.ReLU(),\n",
    "                      nn.Linear(hidden_sizes[1], output_size),\n",
    "                      nn.Softmax(dim=1))\n",
    "print(model)\n",
    "\n",
    "# Forward pass through the network and display output\n",
    "images, labels = next(iter(trainloader))\n",
    "images.resize_(images.shape[0], 1, 784)\n",
    "ps = model.forward(images[0,:])\n",
    "helper.view_classify(images[0].view(1, 28, 28), ps)"
   ]
  },
  {
   "cell_type": "markdown",
   "metadata": {},
   "source": [
    "Here our model is the same as before: 784 input units, a hidden layer with 128 units, ReLU activation, 64 unit hidden layer, another ReLU, then the output layer with 10 units, and the softmax output.\n",
    "\n",
    "The operations are available by passing in the appropriate index. For example, if you want to get first Linear operation and look at the weights, you'd use `model[0]`."
   ]
  },
  {
   "cell_type": "code",
   "execution_count": 35,
   "metadata": {
    "collapsed": true
   },
   "outputs": [
    {
     "name": "stdout",
     "output_type": "stream",
     "text": [
      "Linear(in_features=784, out_features=128, bias=True)\n"
     ]
    },
    {
     "data": {
      "text/plain": [
       "Parameter containing:\n",
       "tensor([[ 0.0122, -0.0130,  0.0331,  ..., -0.0061, -0.0322, -0.0034],\n",
       "        [-0.0118, -0.0223, -0.0142,  ..., -0.0203, -0.0095, -0.0051],\n",
       "        [-0.0086, -0.0127,  0.0277,  ..., -0.0342, -0.0259,  0.0277],\n",
       "        ...,\n",
       "        [ 0.0268,  0.0276, -0.0176,  ..., -0.0169,  0.0237, -0.0170],\n",
       "        [-0.0088,  0.0248,  0.0276,  ..., -0.0172,  0.0218, -0.0128],\n",
       "        [-0.0010,  0.0293,  0.0307,  ..., -0.0101, -0.0100, -0.0158]],\n",
       "       requires_grad=True)"
      ]
     },
     "execution_count": 35,
     "metadata": {},
     "output_type": "execute_result"
    }
   ],
   "source": [
    "print(model[0])\n",
    "model[0].weight"
   ]
  },
  {
   "cell_type": "markdown",
   "metadata": {},
   "source": [
    "You can also pass in an `OrderedDict` to name the individual layers and operations, instead of using incremental integers. Note that dictionary keys must be unique, so _each operation must have a different name_."
   ]
  },
  {
   "cell_type": "code",
   "execution_count": 36,
   "metadata": {
    "collapsed": true
   },
   "outputs": [
    {
     "data": {
      "text/plain": [
       "Sequential(\n",
       "  (fc1): Linear(in_features=784, out_features=128, bias=True)\n",
       "  (relu1): ReLU()\n",
       "  (fc2): Linear(in_features=128, out_features=64, bias=True)\n",
       "  (relu2): ReLU()\n",
       "  (output): Linear(in_features=64, out_features=10, bias=True)\n",
       "  (softmax): Softmax()\n",
       ")"
      ]
     },
     "execution_count": 36,
     "metadata": {},
     "output_type": "execute_result"
    }
   ],
   "source": [
    "from collections import OrderedDict\n",
    "model = nn.Sequential(OrderedDict([\n",
    "                      ('fc1', nn.Linear(input_size, hidden_sizes[0])),\n",
    "                      ('relu1', nn.ReLU()),\n",
    "                      ('fc2', nn.Linear(hidden_sizes[0], hidden_sizes[1])),\n",
    "                      ('relu2', nn.ReLU()),\n",
    "                      ('output', nn.Linear(hidden_sizes[1], output_size)),\n",
    "                      ('softmax', nn.Softmax(dim=1))]))\n",
    "model"
   ]
  },
  {
   "cell_type": "markdown",
   "metadata": {},
   "source": [
    "Now you can access layers either by integer or the name"
   ]
  },
  {
   "cell_type": "code",
   "execution_count": 37,
   "metadata": {
    "collapsed": true
   },
   "outputs": [
    {
     "name": "stdout",
     "output_type": "stream",
     "text": [
      "Linear(in_features=784, out_features=128, bias=True)\n",
      "Linear(in_features=784, out_features=128, bias=True)\n"
     ]
    }
   ],
   "source": [
    "print(model[0])\n",
    "print(model.fc1)"
   ]
  },
  {
   "cell_type": "markdown",
   "metadata": {},
   "source": [
    "In the next notebook, we'll see how we can train a neural network to accuractly predict the numbers appearing in the MNIST images."
   ]
  },
  {
   "cell_type": "code",
   "execution_count": null,
   "metadata": {},
   "outputs": [],
   "source": []
  }
 ],
 "metadata": {
  "kernelspec": {
   "display_name": "Python 3",
   "language": "python",
   "name": "python3"
  },
  "language_info": {
   "codemirror_mode": {
    "name": "ipython",
    "version": 3
   },
   "file_extension": ".py",
   "mimetype": "text/x-python",
   "name": "python",
   "nbconvert_exporter": "python",
   "pygments_lexer": "ipython3",
   "version": "3.6.5"
  }
 },
 "nbformat": 4,
 "nbformat_minor": 2
}
