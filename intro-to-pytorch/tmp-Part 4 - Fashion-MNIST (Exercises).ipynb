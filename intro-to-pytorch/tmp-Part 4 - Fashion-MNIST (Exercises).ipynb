{
 "cells": [
  {
   "cell_type": "markdown",
   "metadata": {},
   "source": [
    "# Classifying Fashion-MNIST\n",
    "\n",
    "Now it's your turn to build and train a neural network. You'll be using the [Fashion-MNIST dataset](https://github.com/zalandoresearch/fashion-mnist), a drop-in replacement for the MNIST dataset. MNIST is actually quite trivial with neural networks where you can easily achieve better than 97% accuracy. Fashion-MNIST is a set of 28x28 greyscale images of clothes. It's more complex than MNIST, so it's a better representation of the actual performance of your network, and a better representation of datasets you'll use in the real world.\n",
    "\n",
    "<img src='assets/fashion-mnist-sprite.png' width=500px>\n",
    "\n",
    "In this notebook, you'll build your own neural network. For the most part, you could just copy and paste the code from Part 3, but you wouldn't be learning. It's important for you to write the code yourself and get it to work. Feel free to consult the previous notebooks though as you work through this.\n",
    "\n",
    "First off, let's load the dataset through torchvision."
   ]
  },
  {
   "cell_type": "code",
   "execution_count": 1,
   "metadata": {},
   "outputs": [
    {
     "name": "stderr",
     "output_type": "stream",
     "text": [
      "0.00B [00:00, ?B/s]"
     ]
    },
    {
     "name": "stdout",
     "output_type": "stream",
     "text": [
      "Downloading http://fashion-mnist.s3-website.eu-central-1.amazonaws.com/train-images-idx3-ubyte.gz to /Users/vijaikmathew/.pytorch/F_MNIST_data/FashionMNIST/raw/train-images-idx3-ubyte.gz\n"
     ]
    },
    {
     "name": "stderr",
     "output_type": "stream",
     "text": [
      "100%|█████████▉| 26.4M/26.4M [06:09<00:00, 88.5kB/s]"
     ]
    },
    {
     "name": "stdout",
     "output_type": "stream",
     "text": [
      "Extracting /Users/vijaikmathew/.pytorch/F_MNIST_data/FashionMNIST/raw/train-images-idx3-ubyte.gz\n"
     ]
    },
    {
     "name": "stderr",
     "output_type": "stream",
     "text": [
      "\n",
      "0.00B [00:00, ?B/s]\u001b[A"
     ]
    },
    {
     "name": "stdout",
     "output_type": "stream",
     "text": [
      "Downloading http://fashion-mnist.s3-website.eu-central-1.amazonaws.com/train-labels-idx1-ubyte.gz to /Users/vijaikmathew/.pytorch/F_MNIST_data/FashionMNIST/raw/train-labels-idx1-ubyte.gz\n"
     ]
    },
    {
     "name": "stderr",
     "output_type": "stream",
     "text": [
      "\n",
      "  0%|          | 0.00/29.5k [00:00<?, ?B/s]\u001b[A\n",
      " 56%|█████▌    | 16.4k/29.5k [00:00<00:00, 104kB/s]\u001b[A\n",
      "32.8kB [00:00, 51.8kB/s]                           \u001b[A\n",
      "0.00B [00:00, ?B/s]\u001b[A"
     ]
    },
    {
     "name": "stdout",
     "output_type": "stream",
     "text": [
      "Extracting /Users/vijaikmathew/.pytorch/F_MNIST_data/FashionMNIST/raw/train-labels-idx1-ubyte.gz\n",
      "Downloading http://fashion-mnist.s3-website.eu-central-1.amazonaws.com/t10k-images-idx3-ubyte.gz to /Users/vijaikmathew/.pytorch/F_MNIST_data/FashionMNIST/raw/t10k-images-idx3-ubyte.gz\n"
     ]
    },
    {
     "name": "stderr",
     "output_type": "stream",
     "text": [
      "\n",
      "  0%|          | 0.00/4.42M [00:00<?, ?B/s]\u001b[A\n",
      "  0%|          | 16.4k/4.42M [00:00<01:01, 71.1kB/s]\u001b[A\n",
      "  1%|          | 24.6k/4.42M [00:01<04:35, 16.0kB/s]\u001b[A\n",
      "  1%|          | 32.8k/4.42M [00:02<03:39, 20.0kB/s]\u001b[A\n",
      "  1%|          | 49.2k/4.42M [00:02<02:45, 26.5kB/s]\u001b[A\n",
      "  2%|▏         | 73.7k/4.42M [00:02<02:03, 35.3kB/s]\u001b[A\n",
      "  2%|▏         | 98.3k/4.42M [00:02<01:33, 46.1kB/s]\u001b[A\n",
      "  3%|▎         | 115k/4.42M [00:02<01:18, 55.0kB/s] \u001b[A\n",
      "  3%|▎         | 139k/4.42M [00:02<00:59, 71.6kB/s]\u001b[A\n",
      "  4%|▍         | 172k/4.42M [00:03<00:50, 84.5kB/s]\u001b[A\n",
      "  4%|▍         | 197k/4.42M [00:03<00:43, 98.1kB/s]\u001b[A\n",
      "  5%|▌         | 229k/4.42M [00:03<00:36, 116kB/s] \u001b[A\n",
      "  6%|▌         | 254k/4.42M [00:03<00:41, 100kB/s]\u001b[A\n",
      "  7%|▋         | 311k/4.42M [00:03<00:31, 129kB/s]\u001b[A\n",
      "  8%|▊         | 336k/4.42M [00:04<00:38, 107kB/s]\u001b[A\n",
      "  8%|▊         | 360k/4.42M [00:04<00:34, 118kB/s]\u001b[A\n",
      "  9%|▊         | 385k/4.42M [00:05<01:04, 62.3kB/s]\u001b[A\n",
      "  9%|▉         | 401k/4.42M [00:05<01:16, 52.2kB/s]\u001b[A\n",
      "  9%|▉         | 418k/4.42M [00:06<01:29, 44.8kB/s]\u001b[A\n",
      " 10%|▉         | 426k/4.42M [00:06<01:48, 36.8kB/s]\u001b[A\n",
      " 10%|█         | 442k/4.42M [00:06<01:26, 46.0kB/s]\u001b[A\n",
      " 10%|█         | 451k/4.42M [00:06<01:23, 47.6kB/s]\u001b[A\n",
      " 10%|█         | 459k/4.42M [00:06<01:20, 49.0kB/s]\u001b[A\n",
      " 11%|█         | 475k/4.42M [00:07<01:07, 58.4kB/s]\u001b[A\n",
      " 11%|█         | 483k/4.42M [00:07<01:57, 33.6kB/s]\u001b[A\n",
      " 11%|█         | 492k/4.42M [00:07<01:43, 38.0kB/s]\u001b[A\n",
      " 11%|█▏        | 508k/4.42M [00:07<01:23, 46.6kB/s]\u001b[A\n",
      " 12%|█▏        | 516k/4.42M [00:08<01:24, 46.1kB/s]\u001b[A\n",
      "26.4MB [06:20, 88.5kB/s]                            \n",
      " 12%|█▏        | 532k/4.42M [00:08<02:22, 27.3kB/s]\u001b[A\n",
      " 12%|█▏        | 541k/4.42M [00:09<02:02, 31.7kB/s]\u001b[A\n",
      " 12%|█▏        | 549k/4.42M [00:09<01:47, 36.0kB/s]\u001b[A\n",
      " 13%|█▎        | 557k/4.42M [00:09<01:37, 39.7kB/s]\u001b[A\n",
      " 13%|█▎        | 573k/4.42M [00:09<01:19, 48.5kB/s]\u001b[A\n",
      " 13%|█▎        | 582k/4.42M [00:09<01:26, 44.5kB/s]\u001b[A\n",
      " 14%|█▎        | 598k/4.42M [00:09<01:15, 50.6kB/s]\u001b[A\n",
      " 14%|█▍        | 614k/4.42M [00:10<01:07, 56.8kB/s]\u001b[A\n",
      " 14%|█▍        | 623k/4.42M [00:10<01:14, 51.3kB/s]\u001b[A\n",
      " 14%|█▍        | 631k/4.42M [00:11<02:40, 23.7kB/s]\u001b[A\n",
      " 14%|█▍        | 639k/4.42M [00:11<02:14, 28.1kB/s]\u001b[A\n",
      " 15%|█▍        | 647k/4.42M [00:11<01:56, 32.5kB/s]\u001b[A\n",
      " 15%|█▍        | 655k/4.42M [00:11<01:44, 36.1kB/s]\u001b[A\n",
      " 15%|█▌        | 664k/4.42M [00:11<01:55, 32.5kB/s]\u001b[A\n",
      " 15%|█▌        | 680k/4.42M [00:12<01:31, 41.0kB/s]\u001b[A\n",
      " 16%|█▌        | 688k/4.42M [00:12<01:31, 40.7kB/s]\u001b[A\n",
      " 16%|█▌        | 705k/4.42M [00:12<01:14, 49.9kB/s]\u001b[A\n",
      " 16%|█▋        | 721k/4.42M [00:12<00:59, 61.9kB/s]\u001b[A\n",
      " 17%|█▋        | 737k/4.42M [00:12<00:53, 69.0kB/s]\u001b[A\n",
      " 17%|█▋        | 754k/4.42M [00:12<00:47, 77.4kB/s]\u001b[A\n",
      " 17%|█▋        | 770k/4.42M [00:13<00:43, 83.4kB/s]\u001b[A\n",
      " 18%|█▊        | 786k/4.42M [00:13<00:40, 88.9kB/s]\u001b[A\n",
      " 18%|█▊        | 803k/4.42M [00:13<00:48, 74.1kB/s]\u001b[A\n",
      " 19%|█▊        | 819k/4.42M [00:13<00:44, 80.6kB/s]\u001b[A\n",
      " 19%|█▉        | 844k/4.42M [00:13<00:38, 94.1kB/s]\u001b[A\n",
      " 19%|█▉        | 860k/4.42M [00:14<00:37, 95.1kB/s]\u001b[A\n",
      " 20%|█▉        | 877k/4.42M [00:14<00:36, 97.8kB/s]\u001b[A\n",
      " 20%|██        | 893k/4.42M [00:14<00:39, 90.1kB/s]\u001b[A\n",
      " 21%|██        | 909k/4.42M [00:14<00:33, 104kB/s] \u001b[A\n",
      " 21%|██        | 934k/4.42M [00:14<00:33, 104kB/s]\u001b[A\n",
      " 22%|██▏       | 958k/4.42M [00:14<00:30, 115kB/s]\u001b[A\n",
      " 22%|██▏       | 975k/4.42M [00:15<00:30, 113kB/s]\u001b[A\n",
      " 23%|██▎       | 999k/4.42M [00:15<00:28, 121kB/s]\u001b[A\n",
      " 23%|██▎       | 1.02M/4.42M [00:15<00:28, 119kB/s]\u001b[A\n",
      " 24%|██▎       | 1.05M/4.42M [00:15<00:37, 91.0kB/s]\u001b[A\n",
      " 24%|██▍       | 1.06M/4.42M [00:16<00:36, 90.9kB/s]\u001b[A\n",
      " 24%|██▍       | 1.08M/4.42M [00:16<00:35, 93.3kB/s]\u001b[A\n",
      " 25%|██▍       | 1.10M/4.42M [00:16<00:36, 90.2kB/s]\u001b[A\n",
      " 25%|██▌       | 1.12M/4.42M [00:16<00:32, 102kB/s] \u001b[A\n",
      " 26%|██▌       | 1.15M/4.42M [00:16<00:28, 115kB/s]\u001b[A\n",
      " 26%|██▋       | 1.17M/4.42M [00:16<00:25, 125kB/s]\u001b[A\n",
      " 27%|██▋       | 1.19M/4.42M [00:17<00:36, 88.3kB/s]\u001b[A\n",
      " 28%|██▊       | 1.22M/4.42M [00:17<00:29, 107kB/s] \u001b[A\n",
      " 28%|██▊       | 1.24M/4.42M [00:17<00:30, 106kB/s]\u001b[A\n",
      " 29%|██▊       | 1.26M/4.42M [00:17<00:27, 117kB/s]\u001b[A\n",
      " 29%|██▉       | 1.28M/4.42M [00:17<00:27, 113kB/s]\u001b[A\n",
      " 29%|██▉       | 1.30M/4.42M [00:18<00:33, 91.9kB/s]\u001b[A\n",
      " 30%|███       | 1.34M/4.42M [00:19<01:12, 42.3kB/s]\u001b[A\n",
      " 30%|███       | 1.34M/4.42M [00:20<01:09, 44.3kB/s]\u001b[A\n",
      " 31%|███       | 1.36M/4.42M [00:20<00:57, 53.4kB/s]\u001b[A\n",
      " 31%|███       | 1.37M/4.42M [00:20<00:56, 53.7kB/s]\u001b[A\n",
      " 31%|███       | 1.38M/4.42M [00:20<00:57, 52.8kB/s]\u001b[A\n",
      " 31%|███▏      | 1.39M/4.42M [00:21<01:03, 47.9kB/s]\u001b[A\n",
      " 32%|███▏      | 1.41M/4.42M [00:21<00:52, 57.0kB/s]\u001b[A\n",
      " 32%|███▏      | 1.42M/4.42M [00:21<00:56, 52.8kB/s]\u001b[A\n",
      " 32%|███▏      | 1.43M/4.42M [00:21<01:02, 47.8kB/s]\u001b[A\n",
      " 33%|███▎      | 1.44M/4.42M [00:21<00:52, 56.7kB/s]\u001b[A\n",
      " 33%|███▎      | 1.46M/4.42M [00:21<00:45, 65.9kB/s]\u001b[A\n",
      " 33%|███▎      | 1.47M/4.42M [00:22<00:48, 61.5kB/s]\u001b[A\n",
      " 34%|███▎      | 1.48M/4.42M [00:22<00:41, 70.0kB/s]\u001b[A\n",
      " 34%|███▍      | 1.50M/4.42M [00:22<00:38, 76.2kB/s]\u001b[A\n",
      " 34%|███▍      | 1.52M/4.42M [00:22<00:35, 82.5kB/s]\u001b[A\n",
      " 35%|███▍      | 1.53M/4.42M [00:22<00:32, 87.9kB/s]\u001b[A\n",
      " 35%|███▌      | 1.55M/4.42M [00:22<00:30, 92.7kB/s]\u001b[A\n",
      " 35%|███▌      | 1.56M/4.42M [00:22<00:29, 96.0kB/s]\u001b[A\n",
      " 36%|███▌      | 1.58M/4.42M [00:23<00:29, 97.6kB/s]\u001b[A\n",
      " 36%|███▌      | 1.60M/4.42M [00:23<00:28, 101kB/s] \u001b[A\n",
      " 36%|███▋      | 1.61M/4.42M [00:23<00:27, 101kB/s]\u001b[A\n",
      " 37%|███▋      | 1.63M/4.42M [00:23<00:27, 103kB/s]\u001b[A\n",
      " 37%|███▋      | 1.65M/4.42M [00:23<00:29, 93.6kB/s]\u001b[A\n",
      " 38%|███▊      | 1.66M/4.42M [00:24<00:45, 60.2kB/s]\u001b[A\n",
      " 38%|███▊      | 1.68M/4.42M [00:24<00:42, 65.3kB/s]\u001b[A\n",
      " 38%|███▊      | 1.70M/4.42M [00:25<01:22, 32.9kB/s]\u001b[A\n",
      " 39%|███▊      | 1.70M/4.42M [00:25<01:12, 37.3kB/s]\u001b[A\n",
      " 39%|███▊      | 1.71M/4.42M [00:25<01:06, 40.6kB/s]\u001b[A\n",
      " 39%|███▉      | 1.72M/4.42M [00:26<01:04, 41.9kB/s]\u001b[A\n",
      " 39%|███▉      | 1.73M/4.42M [00:26<01:04, 41.7kB/s]\u001b[A\n",
      " 39%|███▉      | 1.74M/4.42M [00:26<01:00, 44.1kB/s]\u001b[A\n",
      " 39%|███▉      | 1.74M/4.42M [00:26<00:57, 46.4kB/s]\u001b[A\n",
      " 40%|███▉      | 1.76M/4.42M [00:26<00:48, 54.5kB/s]\u001b[A\n",
      " 40%|████      | 1.77M/4.42M [00:27<00:55, 47.8kB/s]\u001b[A\n",
      " 40%|████      | 1.78M/4.42M [00:27<01:17, 34.2kB/s]\u001b[A\n",
      " 41%|████      | 1.79M/4.42M [00:27<01:01, 43.0kB/s]\u001b[A\n",
      " 41%|████      | 1.81M/4.42M [00:27<00:54, 47.6kB/s]\u001b[A\n",
      " 41%|████      | 1.82M/4.42M [00:28<01:11, 36.6kB/s]\u001b[A\n",
      " 41%|████▏     | 1.84M/4.42M [00:28<00:57, 45.0kB/s]\u001b[A\n",
      " 42%|████▏     | 1.84M/4.42M [00:28<00:55, 46.7kB/s]\u001b[A\n",
      " 42%|████▏     | 1.86M/4.42M [00:28<00:46, 55.1kB/s]\u001b[A\n",
      " 42%|████▏     | 1.87M/4.42M [00:28<00:44, 56.9kB/s]\u001b[A\n",
      " 43%|████▎     | 1.88M/4.42M [00:28<00:39, 64.6kB/s]\u001b[A\n",
      " 43%|████▎     | 1.89M/4.42M [00:29<00:40, 62.9kB/s]\u001b[A\n",
      " 43%|████▎     | 1.90M/4.42M [00:29<00:42, 59.0kB/s]\u001b[A\n",
      " 43%|████▎     | 1.92M/4.42M [00:29<00:37, 67.3kB/s]\u001b[A\n",
      " 44%|████▎     | 1.93M/4.42M [00:29<00:37, 66.3kB/s]\u001b[A\n",
      " 44%|████▍     | 1.94M/4.42M [00:29<00:35, 69.6kB/s]\u001b[A\n",
      " 44%|████▍     | 1.96M/4.42M [00:29<00:31, 77.7kB/s]\u001b[A\n",
      " 45%|████▍     | 1.97M/4.42M [00:30<00:28, 85.1kB/s]\u001b[A\n",
      " 45%|████▌     | 1.99M/4.42M [00:30<00:27, 87.1kB/s]\u001b[A\n",
      " 45%|████▌     | 2.01M/4.42M [00:30<00:25, 94.2kB/s]\u001b[A\n",
      " 46%|████▌     | 2.02M/4.42M [00:30<00:25, 95.4kB/s]\u001b[A\n",
      " 46%|████▌     | 2.04M/4.42M [00:30<00:24, 97.4kB/s]\u001b[A\n",
      " 46%|████▋     | 2.06M/4.42M [00:30<00:23, 99.6kB/s]\u001b[A\n",
      " 47%|████▋     | 2.07M/4.42M [00:31<00:33, 70.6kB/s]\u001b[A\n",
      " 47%|████▋     | 2.09M/4.42M [00:31<00:30, 77.8kB/s]\u001b[A\n",
      " 48%|████▊     | 2.11M/4.42M [00:31<00:27, 84.8kB/s]\u001b[A\n",
      " 48%|████▊     | 2.12M/4.42M [00:31<00:27, 82.5kB/s]\u001b[A\n",
      " 48%|████▊     | 2.14M/4.42M [00:32<00:28, 81.1kB/s]\u001b[A\n",
      " 49%|████▊     | 2.15M/4.42M [00:32<00:26, 86.0kB/s]\u001b[A\n",
      " 49%|████▉     | 2.17M/4.42M [00:32<00:24, 92.0kB/s]\u001b[A\n",
      " 49%|████▉     | 2.19M/4.42M [00:32<00:23, 94.8kB/s]\u001b[A\n",
      " 50%|████▉     | 2.20M/4.42M [00:32<00:20, 107kB/s] \u001b[A\n",
      " 50%|█████     | 2.22M/4.42M [00:32<00:20, 106kB/s]\u001b[A\n",
      " 51%|█████     | 2.24M/4.42M [00:32<00:20, 107kB/s]\u001b[A\n",
      " 51%|█████     | 2.26M/4.42M [00:33<00:18, 117kB/s]\u001b[A\n",
      " 51%|█████▏    | 2.28M/4.42M [00:33<00:19, 112kB/s]\u001b[A\n",
      " 52%|█████▏    | 2.30M/4.42M [00:33<00:17, 122kB/s]\u001b[A\n",
      " 52%|█████▏    | 2.32M/4.42M [00:33<00:17, 118kB/s]\u001b[A\n",
      " 53%|█████▎    | 2.33M/4.42M [00:33<00:18, 112kB/s]\u001b[A\n",
      " 53%|█████▎    | 2.36M/4.42M [00:33<00:16, 122kB/s]\u001b[A\n",
      " 54%|█████▍    | 2.38M/4.42M [00:34<00:15, 129kB/s]\u001b[A\n",
      " 54%|█████▍    | 2.40M/4.42M [00:34<00:16, 122kB/s]\u001b[A\n",
      " 55%|█████▍    | 2.42M/4.42M [00:34<00:16, 118kB/s]\u001b[A\n",
      " 55%|█████▌    | 2.44M/4.42M [00:34<00:20, 96.1kB/s]\u001b[A\n",
      " 56%|█████▌    | 2.46M/4.42M [00:35<00:52, 37.3kB/s]\u001b[A\n",
      " 56%|█████▌    | 2.47M/4.42M [00:35<00:49, 39.9kB/s]\u001b[A\n",
      " 56%|█████▌    | 2.47M/4.42M [00:36<00:48, 39.8kB/s]\u001b[A\n",
      " 56%|█████▌    | 2.48M/4.42M [00:36<00:59, 32.9kB/s]\u001b[A\n",
      " 56%|█████▋    | 2.49M/4.42M [00:36<00:52, 37.0kB/s]\u001b[A\n",
      " 57%|█████▋    | 2.51M/4.42M [00:36<00:41, 45.9kB/s]\u001b[A\n",
      " 57%|█████▋    | 2.51M/4.42M [00:36<00:40, 47.2kB/s]\u001b[A\n",
      " 57%|█████▋    | 2.52M/4.42M [00:37<00:50, 37.3kB/s]\u001b[A\n",
      " 58%|█████▊    | 2.55M/4.42M [00:37<00:38, 48.6kB/s]\u001b[A\n",
      " 58%|█████▊    | 2.56M/4.42M [00:37<00:32, 57.8kB/s]\u001b[A\n",
      " 58%|█████▊    | 2.58M/4.42M [00:38<00:52, 34.8kB/s]\u001b[A\n",
      " 59%|█████▊    | 2.59M/4.42M [00:38<00:58, 31.4kB/s]\u001b[A\n",
      " 59%|█████▊    | 2.60M/4.42M [00:38<00:51, 35.5kB/s]\u001b[A\n",
      " 59%|█████▉    | 2.61M/4.42M [00:39<00:45, 39.6kB/s]\u001b[A\n",
      " 59%|█████▉    | 2.61M/4.42M [00:39<00:41, 43.1kB/s]\u001b[A\n",
      " 59%|█████▉    | 2.62M/4.42M [00:39<00:40, 44.9kB/s]\u001b[A\n",
      " 59%|█████▉    | 2.63M/4.42M [00:39<00:38, 47.0kB/s]\u001b[A\n",
      " 60%|█████▉    | 2.64M/4.42M [00:39<00:40, 44.1kB/s]\u001b[A\n",
      " 60%|█████▉    | 2.65M/4.42M [00:40<00:54, 32.7kB/s]\u001b[A\n",
      " 60%|██████    | 2.66M/4.42M [00:40<00:43, 40.8kB/s]\u001b[A\n",
      " 60%|██████    | 2.67M/4.42M [00:40<00:40, 43.5kB/s]\u001b[A\n",
      " 61%|██████    | 2.69M/4.42M [00:40<00:34, 50.4kB/s]\u001b[A\n",
      " 61%|██████    | 2.70M/4.42M [00:40<00:34, 50.4kB/s]\u001b[A\n",
      " 61%|██████    | 2.70M/4.42M [00:40<00:30, 56.7kB/s]\u001b[A\n",
      " 62%|██████▏   | 2.72M/4.42M [00:41<00:29, 58.5kB/s]\u001b[A\n",
      " 62%|██████▏   | 2.73M/4.42M [00:41<00:30, 56.0kB/s]\u001b[A\n",
      " 62%|██████▏   | 2.74M/4.42M [00:41<00:25, 64.9kB/s]\u001b[A\n",
      " 62%|██████▏   | 2.75M/4.42M [00:41<00:27, 60.1kB/s]\u001b[A\n",
      " 63%|██████▎   | 2.77M/4.42M [00:41<00:24, 68.9kB/s]\u001b[A\n",
      " 63%|██████▎   | 2.78M/4.42M [00:42<00:25, 64.1kB/s]\u001b[A\n",
      " 63%|██████▎   | 2.79M/4.42M [00:42<00:22, 72.8kB/s]\u001b[A\n",
      " 64%|██████▎   | 2.81M/4.42M [00:42<00:19, 81.6kB/s]\u001b[A\n",
      " 64%|██████▍   | 2.83M/4.42M [00:42<00:18, 88.6kB/s]\u001b[A\n",
      " 64%|██████▍   | 2.84M/4.42M [00:42<00:16, 93.8kB/s]\u001b[A\n",
      " 65%|██████▍   | 2.86M/4.42M [00:42<00:16, 97.0kB/s]\u001b[A\n",
      " 65%|██████▌   | 2.88M/4.42M [00:43<00:18, 81.9kB/s]\u001b[A\n",
      " 66%|██████▌   | 2.90M/4.42M [00:43<00:19, 76.7kB/s]\u001b[A\n",
      " 66%|██████▌   | 2.92M/4.42M [00:43<00:17, 84.0kB/s]\u001b[A\n",
      " 67%|██████▋   | 2.94M/4.42M [00:43<00:21, 70.1kB/s]\u001b[A\n",
      " 67%|██████▋   | 2.95M/4.42M [00:44<00:23, 63.3kB/s]\u001b[A\n",
      " 67%|██████▋   | 2.97M/4.42M [00:44<00:20, 71.6kB/s]\u001b[A\n",
      " 67%|██████▋   | 2.97M/4.42M [00:44<00:22, 64.7kB/s]\u001b[A\n",
      " 68%|██████▊   | 2.99M/4.42M [00:44<00:19, 72.7kB/s]\u001b[A\n",
      " 68%|██████▊   | 3.00M/4.42M [00:45<00:40, 35.0kB/s]\u001b[A\n",
      " 68%|██████▊   | 3.01M/4.42M [00:45<01:00, 23.5kB/s]\u001b[A\n",
      " 68%|██████▊   | 3.01M/4.42M [00:45<00:52, 26.8kB/s]\u001b[A\n",
      " 69%|██████▊   | 3.03M/4.42M [00:46<00:41, 33.7kB/s]\u001b[A\n",
      " 69%|██████▊   | 3.04M/4.42M [00:46<00:39, 35.4kB/s]\u001b[A\n",
      " 69%|██████▉   | 3.06M/4.42M [00:46<00:31, 43.8kB/s]\u001b[A\n",
      " 69%|██████▉   | 3.07M/4.42M [00:46<00:25, 52.8kB/s]\u001b[A\n",
      " 70%|██████▉   | 3.08M/4.42M [00:46<00:25, 52.2kB/s]\u001b[A\n",
      " 70%|███████   | 3.10M/4.42M [00:46<00:21, 61.1kB/s]\u001b[A\n",
      " 70%|███████   | 3.11M/4.42M [00:47<00:18, 69.4kB/s]\u001b[A\n",
      " 71%|███████   | 3.13M/4.42M [00:47<00:16, 76.1kB/s]\u001b[A\n",
      " 71%|███████   | 3.15M/4.42M [00:47<00:15, 82.3kB/s]\u001b[A\n",
      " 72%|███████▏  | 3.16M/4.42M [00:47<00:14, 88.1kB/s]\u001b[A\n",
      " 72%|███████▏  | 3.18M/4.42M [00:47<00:16, 73.5kB/s]\u001b[A\n",
      " 72%|███████▏  | 3.19M/4.42M [00:48<00:14, 81.9kB/s]\u001b[A\n",
      " 73%|███████▎  | 3.21M/4.42M [00:48<00:18, 64.4kB/s]\u001b[A\n",
      " 73%|███████▎  | 3.23M/4.42M [00:48<00:16, 74.5kB/s]\u001b[A\n",
      " 73%|███████▎  | 3.24M/4.42M [00:48<00:14, 80.1kB/s]\u001b[A\n",
      " 74%|███████▎  | 3.26M/4.42M [00:49<00:16, 70.6kB/s]\u001b[A\n",
      " 74%|███████▍  | 3.27M/4.42M [00:49<00:16, 69.9kB/s]\u001b[A\n",
      " 74%|███████▍  | 3.28M/4.42M [00:49<00:15, 75.0kB/s]\u001b[A\n",
      " 74%|███████▍  | 3.29M/4.42M [00:49<00:16, 67.0kB/s]\u001b[A\n",
      " 75%|███████▍  | 3.31M/4.42M [00:49<00:14, 75.6kB/s]\u001b[A\n",
      " 75%|███████▌  | 3.33M/4.42M [00:49<00:14, 78.1kB/s]\u001b[A\n",
      " 76%|███████▌  | 3.34M/4.42M [00:50<00:14, 76.0kB/s]\u001b[A\n",
      " 76%|███████▌  | 3.36M/4.42M [00:50<00:12, 82.9kB/s]\u001b[A\n",
      " 76%|███████▋  | 3.38M/4.42M [00:50<00:12, 81.8kB/s]\u001b[A\n",
      " 77%|███████▋  | 3.39M/4.42M [00:50<00:12, 82.0kB/s]\u001b[A\n",
      " 77%|███████▋  | 3.42M/4.42M [00:50<00:11, 91.4kB/s]\u001b[A\n",
      " 78%|███████▊  | 3.43M/4.42M [00:51<00:11, 88.8kB/s]\u001b[A\n",
      " 78%|███████▊  | 3.45M/4.42M [00:51<00:10, 92.3kB/s]\u001b[A\n",
      " 78%|███████▊  | 3.47M/4.42M [00:51<00:10, 91.6kB/s]\u001b[A\n",
      " 79%|███████▉  | 3.49M/4.42M [00:51<00:09, 99.7kB/s]\u001b[A\n",
      " 79%|███████▉  | 3.51M/4.42M [00:51<00:09, 101kB/s] \u001b[A\n",
      " 80%|███████▉  | 3.53M/4.42M [00:51<00:07, 112kB/s]\u001b[A\n",
      " 80%|████████  | 3.56M/4.42M [00:52<00:07, 123kB/s]\u001b[A\n",
      " 81%|████████  | 3.58M/4.42M [00:52<00:06, 131kB/s]\u001b[A\n",
      " 82%|████████▏ | 3.60M/4.42M [00:52<00:05, 138kB/s]\u001b[A\n",
      " 82%|████████▏ | 3.63M/4.42M [00:52<00:05, 144kB/s]\u001b[A\n",
      " 83%|████████▎ | 3.65M/4.42M [00:52<00:05, 147kB/s]\u001b[A\n",
      " 83%|████████▎ | 3.68M/4.42M [00:52<00:05, 148kB/s]\u001b[A\n",
      " 84%|████████▍ | 3.71M/4.42M [00:53<00:04, 162kB/s]\u001b[A\n",
      " 84%|████████▍ | 3.74M/4.42M [00:53<00:04, 156kB/s]\u001b[A\n",
      " 85%|████████▌ | 3.76M/4.42M [00:53<00:05, 115kB/s]\u001b[A\n",
      " 86%|████████▌ | 3.81M/4.42M [00:53<00:04, 142kB/s]\u001b[A\n",
      " 87%|████████▋ | 3.83M/4.42M [00:53<00:04, 133kB/s]\u001b[A\n",
      " 87%|████████▋ | 3.86M/4.42M [00:54<00:04, 117kB/s]\u001b[A\n",
      " 88%|████████▊ | 3.87M/4.42M [00:54<00:04, 112kB/s]\u001b[A\n",
      " 88%|████████▊ | 3.89M/4.42M [00:54<00:04, 112kB/s]\u001b[A\n",
      " 89%|████████▊ | 3.92M/4.42M [00:54<00:04, 122kB/s]\u001b[A\n",
      " 89%|████████▉ | 3.93M/4.42M [00:54<00:04, 115kB/s]\u001b[A\n",
      " 89%|████████▉ | 3.95M/4.42M [00:54<00:04, 109kB/s]\u001b[A\n",
      " 90%|████████▉ | 3.97M/4.42M [00:55<00:03, 120kB/s]\u001b[A\n",
      " 90%|█████████ | 3.99M/4.42M [00:55<00:03, 114kB/s]\u001b[A\n",
      " 91%|█████████ | 4.01M/4.42M [00:55<00:03, 115kB/s]\u001b[A\n",
      " 91%|█████████ | 4.03M/4.42M [00:56<00:06, 58.3kB/s]\u001b[A\n",
      " 92%|█████████▏| 4.05M/4.42M [00:56<00:05, 66.9kB/s]\u001b[A\n",
      " 92%|█████████▏| 4.06M/4.42M [00:56<00:04, 75.3kB/s]\u001b[A\n",
      " 92%|█████████▏| 4.08M/4.42M [00:56<00:04, 76.5kB/s]\u001b[A\n",
      " 93%|█████████▎| 4.10M/4.42M [00:56<00:04, 76.3kB/s]\u001b[A\n",
      " 93%|█████████▎| 4.12M/4.42M [00:57<00:03, 86.3kB/s]\u001b[A\n",
      " 94%|█████████▎| 4.14M/4.42M [00:57<00:03, 92.7kB/s]\u001b[A\n",
      " 94%|█████████▍| 4.16M/4.42M [00:57<00:02, 107kB/s] \u001b[A\n",
      " 95%|█████████▍| 4.19M/4.42M [00:57<00:02, 116kB/s]\u001b[A\n",
      " 95%|█████████▌| 4.20M/4.42M [00:57<00:01, 112kB/s]\u001b[A\n",
      " 96%|█████████▌| 4.23M/4.42M [00:57<00:01, 120kB/s]\u001b[A\n",
      " 96%|█████████▌| 4.24M/4.42M [00:57<00:01, 118kB/s]\u001b[A\n",
      " 97%|█████████▋| 4.27M/4.42M [00:58<00:01, 128kB/s]\u001b[A\n",
      " 97%|█████████▋| 4.29M/4.42M [00:58<00:00, 134kB/s]\u001b[A\n",
      " 97%|█████████▋| 4.31M/4.42M [00:58<00:00, 124kB/s]\u001b[A\n",
      " 98%|█████████▊| 4.33M/4.42M [00:58<00:00, 117kB/s]\u001b[A\n",
      " 98%|█████████▊| 4.35M/4.42M [00:58<00:00, 128kB/s]\u001b[A\n",
      " 99%|█████████▊| 4.37M/4.42M [00:58<00:00, 117kB/s]\u001b[A\n",
      " 99%|█████████▉| 4.38M/4.42M [00:59<00:00, 113kB/s]\u001b[A\n",
      " 99%|█████████▉| 4.40M/4.42M [00:59<00:00, 115kB/s]\u001b[A\n",
      "4.42MB [00:59, 125kB/s]                            \u001b[A\n",
      "\n",
      "0.00B [00:00, ?B/s]\u001b[A\u001b[A"
     ]
    },
    {
     "name": "stdout",
     "output_type": "stream",
     "text": [
      "Extracting /Users/vijaikmathew/.pytorch/F_MNIST_data/FashionMNIST/raw/t10k-images-idx3-ubyte.gz\n",
      "Downloading http://fashion-mnist.s3-website.eu-central-1.amazonaws.com/t10k-labels-idx1-ubyte.gz to /Users/vijaikmathew/.pytorch/F_MNIST_data/FashionMNIST/raw/t10k-labels-idx1-ubyte.gz\n"
     ]
    },
    {
     "name": "stderr",
     "output_type": "stream",
     "text": [
      "\n",
      "\n",
      "  0%|          | 0.00/5.15k [00:00<?, ?B/s]\u001b[A\u001b[A\n",
      "\n",
      "8.19kB [00:00, 23.2kB/s]                   \u001b[A\u001b[A"
     ]
    },
    {
     "name": "stdout",
     "output_type": "stream",
     "text": [
      "Extracting /Users/vijaikmathew/.pytorch/F_MNIST_data/FashionMNIST/raw/t10k-labels-idx1-ubyte.gz\n",
      "Processing...\n",
      "Done!\n"
     ]
    }
   ],
   "source": [
    "import torch\n",
    "from torchvision import datasets, transforms\n",
    "import helper\n",
    "\n",
    "# Define a transform to normalize the data\n",
    "transform = transforms.Compose([transforms.ToTensor(),\n",
    "                                transforms.Normalize((0.5, 0.5, 0.5), (0.5, 0.5, 0.5))])\n",
    "# Download and load the training data\n",
    "trainset = datasets.FashionMNIST('~/.pytorch/F_MNIST_data/', download=True, train=True, transform=transform)\n",
    "trainloader = torch.utils.data.DataLoader(trainset, batch_size=64, shuffle=True)\n",
    "\n",
    "# Download and load the test data\n",
    "testset = datasets.FashionMNIST('~/.pytorch/F_MNIST_data/', download=True, train=False, transform=transform)\n",
    "testloader = torch.utils.data.DataLoader(testset, batch_size=64, shuffle=True)"
   ]
  },
  {
   "cell_type": "markdown",
   "metadata": {},
   "source": [
    "Here we can see one of the images."
   ]
  },
  {
   "cell_type": "code",
   "execution_count": 5,
   "metadata": {},
   "outputs": [
    {
     "data": {
      "image/png": "[encoded data removed]",
      "text/plain": [
       "<Figure size 432x288 with 1 Axes>"
      ]
     },
     "metadata": {
      "needs_background": "light"
     },
     "output_type": "display_data"
    }
   ],
   "source": [
    "image, label = next(iter(trainloader))\n",
    "helper.imshow(image[20,:]);"
   ]
  },
  {
   "cell_type": "markdown",
   "metadata": {},
   "source": [
    "## Building the network\n",
    "\n",
    "Here you should define your network. As with MNIST, each image is 28x28 which is a total of 784 pixels, and there are 10 classes. You should include at least one hidden layer. We suggest you use ReLU activations for the layers and to return the logits or log-softmax from the forward pass. It's up to you how many layers you add and the size of those layers."
   ]
  },
  {
   "cell_type": "code",
   "execution_count": 12,
   "metadata": {},
   "outputs": [],
   "source": [
    "from torch import nn\n",
    "import torch.nn.functional as F\n",
    "from torch import optim\n",
    "\n",
    "\n",
    "# TODO: Define your network architecture here\n",
    "model = nn.Sequential(nn.Linear(784, 256),\n",
    "                      nn.ReLU(),\n",
    "                      nn.Linear(256, 128),\n",
    "                      nn.ReLU(),\n",
    "                      nn.Linear(128, 64),\n",
    "                      nn.ReLU(),\n",
    "                      nn.Linear(64, 10),\n",
    "                      nn.LogSoftmax(dim=1))\n",
    "\n",
    "criterion = nn.CrossEntropyLoss()\n",
    "optimizer = optim.Adam(model.parameters(), lr=0.003)\n"
   ]
  },
  {
   "cell_type": "markdown",
   "metadata": {},
   "source": [
    "# Train the network\n",
    "\n",
    "Now you should create your network and train it. First you'll want to define [the criterion](http://pytorch.org/docs/master/nn.html#loss-functions) ( something like `nn.CrossEntropyLoss`) and [the optimizer](http://pytorch.org/docs/master/optim.html) (typically `optim.SGD` or `optim.Adam`).\n",
    "\n",
    "Then write the training code. Remember the training pass is a fairly straightforward process:\n",
    "\n",
    "* Make a forward pass through the network to get the logits \n",
    "* Use the logits to calculate the loss\n",
    "* Perform a backward pass through the network with `loss.backward()` to calculate the gradients\n",
    "* Take a step with the optimizer to update the weights\n",
    "\n",
    "By adjusting the hyperparameters (hidden units, learning rate, etc), you should be able to get the training loss below 0.4."
   ]
  },
  {
   "cell_type": "code",
   "execution_count": 14,
   "metadata": {},
   "outputs": [
    {
     "name": "stdout",
     "output_type": "stream",
     "text": [
      "Training loss: 0.39340761674047786\n",
      "Training loss: 0.35662114574139053\n",
      "Training loss: 0.3328804801156653\n",
      "Training loss: 0.317872342198833\n",
      "Training loss: 0.30407097156463403\n"
     ]
    }
   ],
   "source": [
    "# TODO: Create the network, define the criterion and optimizer\n",
    "epochs = 5\n",
    "for e in range(epochs):\n",
    "    running_loss = 0\n",
    "    for images, labels in trainloader:\n",
    "        # Flatten MNIST images into a 784 long vector\n",
    "        images = images.view(images.shape[0], -1)\n",
    "    \n",
    "        # TODO: Training pass\n",
    "        optimizer.zero_grad()\n",
    "       \n",
    "        # Forward pass, then backward pass, then update weights\n",
    "        output = model(images)\n",
    "        loss = criterion(output, labels)\n",
    "        loss.backward()\n",
    "        optimizer.step()\n",
    "\n",
    "        running_loss += loss.item()\n",
    "    else:\n",
    "        print(f\"Training loss: {running_loss/len(trainloader)}\")"
   ]
  },
  {
   "cell_type": "code",
   "execution_count": null,
   "metadata": {},
   "outputs": [],
   "source": [
    "# TODO: Train the network here\n"
   ]
  },
  {
   "cell_type": "code",
   "execution_count": 22,
   "metadata": {},
   "outputs": [
    {
     "data": {
      "image/png": "[encoded data removed]",
      "text/plain": [
       "<Figure size 432x648 with 2 Axes>"
      ]
     },
     "metadata": {
      "image/png": {
       "height": 206,
       "width": 423
      },
      "needs_background": "light"
     },
     "output_type": "display_data"
    }
   ],
   "source": [
    "%matplotlib inline\n",
    "%config InlineBackend.figure_format = 'retina'\n",
    "\n",
    "import helper\n",
    "\n",
    "# Test out your network!\n",
    "\n",
    "dataiter = iter(testloader)\n",
    "images, labels = dataiter.next()\n",
    "img = images[0]\n",
    "# Convert 2D image to 1D vector\n",
    "img = img.resize_(1, 784)\n",
    "\n",
    "# TODO: Calculate the class probabilities (softmax) for img\n",
    "ps =torch.exp(model(img))\n",
    "\n",
    "# Plot the image and probabilities\n",
    "helper.view_classify(img.resize_(1, 28, 28), ps, version='Fashion')"
   ]
  },
  {
   "cell_type": "code",
   "execution_count": null,
   "metadata": {},
   "outputs": [],
   "source": []
  }
 ],
 "metadata": {
  "kernelspec": {
   "display_name": "Python 3",
   "language": "python",
   "name": "python3"
  },
  "language_info": {
   "codemirror_mode": {
    "name": "ipython",
    "version": 3
   },
   "file_extension": ".py",
   "mimetype": "text/x-python",
   "name": "python",
   "nbconvert_exporter": "python",
   "pygments_lexer": "ipython3",
   "version": "3.6.5"
  }
 },
 "nbformat": 4,
 "nbformat_minor": 2
}
